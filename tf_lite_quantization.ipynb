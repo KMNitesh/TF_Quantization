{
 "cells": [
  {
   "cell_type": "code",
   "execution_count": 1,
   "metadata": {},
   "outputs": [
    {
     "name": "stderr",
     "output_type": "stream",
     "text": [
      "Using TensorFlow backend.\n"
     ]
    },
    {
     "name": "stdout",
     "output_type": "stream",
     "text": [
      "Downloading data from https://s3.amazonaws.com/img-datasets/mnist.npz\n",
      "11493376/11490434 [==============================] - 1s 0us/step\n"
     ]
    }
   ],
   "source": [
    "import numpy as np\n",
    "import tensorflow as tf\n",
    "from tensorflow import keras\n",
    "from keras.datasets import mnist\n",
    "\n",
    "#Load dataset as train and test sets\n",
    "(x_train, y_train), (x_test, y_test) = mnist.load_data()"
   ]
  },
  {
   "cell_type": "code",
   "execution_count": 2,
   "metadata": {},
   "outputs": [
    {
     "name": "stdout",
     "output_type": "stream",
     "text": [
      "60000 train samples\n",
      "10000 test samples\n"
     ]
    }
   ],
   "source": [
    "x_train = x_train.reshape(60000, 784)\n",
    "x_test = x_test.reshape(10000, 784)\n",
    "x_train = x_train.astype('float32')\n",
    "x_test = x_test.astype('float32')\n",
    "x_train /= 255\n",
    "x_test /= 255\n",
    "print(x_train.shape[0], 'train samples')\n",
    "print(x_test.shape[0], 'test samples')\n",
    "num_classes = 10\n",
    "# convert class vectors to binary class matrices\n",
    "y_train = keras.utils.to_categorical(y_train, num_classes)\n",
    "y_test = keras.utils.to_categorical(y_test, num_classes)"
   ]
  },
  {
   "cell_type": "code",
   "execution_count": 3,
   "metadata": {},
   "outputs": [
    {
     "name": "stdout",
     "output_type": "stream",
     "text": [
      "Model: \"sequential_1\"\n",
      "_________________________________________________________________\n",
      "Layer (type)                 Output Shape              Param #   \n",
      "=================================================================\n",
      "dropout_1 (Dropout)          (None, 784)               0         \n",
      "_________________________________________________________________\n",
      "dense_1 (Dense)              (None, 1000)              785000    \n",
      "_________________________________________________________________\n",
      "dropout_2 (Dropout)          (None, 1000)              0         \n",
      "_________________________________________________________________\n",
      "dense_2 (Dense)              (None, 1000)              1001000   \n",
      "_________________________________________________________________\n",
      "dropout_3 (Dropout)          (None, 1000)              0         \n",
      "_________________________________________________________________\n",
      "dense_3 (Dense)              (None, 10)                10010     \n",
      "=================================================================\n",
      "Total params: 1,796,010\n",
      "Trainable params: 1,796,010\n",
      "Non-trainable params: 0\n",
      "_________________________________________________________________\n"
     ]
    }
   ],
   "source": [
    "from keras.models import Sequential\n",
    "from keras import models, layers\n",
    "from keras import regularizers\n",
    "model = Sequential()\n",
    "model.add(layers.Dropout(0.2,input_shape=(784,)))\n",
    "model.add(layers.Dense(1000,\n",
    "                        kernel_regularizer = regularizers.l2(0.01),\n",
    "                        activation='relu'))\n",
    "model.add(layers.Dropout(0.5))\n",
    "model.add(layers.Dense(1000,\n",
    "                        kernel_regularizer = regularizers.l2(0.01),\n",
    "                        activation='relu'))\n",
    "model.add(layers.Dropout(0.5))\n",
    "model.add(layers.Dense(10,  activation='softmax'))\n",
    "#display the model summary\n",
    "model.summary()"
   ]
  },
  {
   "cell_type": "code",
   "execution_count": 4,
   "metadata": {},
   "outputs": [],
   "source": [
    "model.compile(loss=keras.losses.categorical_crossentropy, \n",
    "              optimizer='adam', \n",
    "              metrics=['accuracy'])"
   ]
  },
  {
   "cell_type": "code",
   "execution_count": 5,
   "metadata": {},
   "outputs": [
    {
     "name": "stdout",
     "output_type": "stream",
     "text": [
      "Train on 60000 samples, validate on 10000 samples\n",
      "Epoch 1/100\n",
      "60000/60000 [==============================] - 3s 51us/step - loss: 2.0675 - accuracy: 0.8560 - val_loss: 0.6820 - val_accuracy: 0.9177\n",
      "Epoch 2/100\n",
      "60000/60000 [==============================] - 2s 32us/step - loss: 0.7667 - accuracy: 0.8899 - val_loss: 0.6296 - val_accuracy: 0.9351\n",
      "Epoch 3/100\n",
      "60000/60000 [==============================] - 2s 32us/step - loss: 0.7300 - accuracy: 0.8975 - val_loss: 0.6505 - val_accuracy: 0.9228\n",
      "Epoch 4/100\n",
      "60000/60000 [==============================] - 2s 33us/step - loss: 0.7061 - accuracy: 0.9017 - val_loss: 0.5608 - val_accuracy: 0.9432\n",
      "Epoch 5/100\n",
      "60000/60000 [==============================] - 2s 33us/step - loss: 0.6862 - accuracy: 0.9056 - val_loss: 0.5648 - val_accuracy: 0.9418\n",
      "Epoch 6/100\n",
      "60000/60000 [==============================] - 2s 32us/step - loss: 0.6779 - accuracy: 0.9062 - val_loss: 0.5522 - val_accuracy: 0.9437\n",
      "Epoch 7/100\n",
      "60000/60000 [==============================] - 2s 33us/step - loss: 0.6678 - accuracy: 0.9065 - val_loss: 0.5548 - val_accuracy: 0.9434\n",
      "Epoch 8/100\n",
      "60000/60000 [==============================] - 2s 32us/step - loss: 0.6495 - accuracy: 0.9084 - val_loss: 0.5365 - val_accuracy: 0.9442\n",
      "Epoch 9/100\n",
      "60000/60000 [==============================] - 2s 32us/step - loss: 0.6417 - accuracy: 0.9077 - val_loss: 0.5121 - val_accuracy: 0.9520\n",
      "Epoch 10/100\n",
      "60000/60000 [==============================] - 2s 33us/step - loss: 0.6382 - accuracy: 0.9088 - val_loss: 0.5070 - val_accuracy: 0.9500\n",
      "Epoch 11/100\n",
      "60000/60000 [==============================] - 2s 32us/step - loss: 0.6224 - accuracy: 0.9101 - val_loss: 0.4992 - val_accuracy: 0.9468\n",
      "Epoch 12/100\n",
      "60000/60000 [==============================] - 2s 32us/step - loss: 0.6150 - accuracy: 0.9097 - val_loss: 0.4945 - val_accuracy: 0.9442\n",
      "Epoch 13/100\n",
      "60000/60000 [==============================] - 2s 33us/step - loss: 0.6181 - accuracy: 0.9105 - val_loss: 0.4949 - val_accuracy: 0.9509\n",
      "Epoch 14/100\n",
      "60000/60000 [==============================] - 2s 32us/step - loss: 0.6127 - accuracy: 0.9109 - val_loss: 0.5082 - val_accuracy: 0.9410\n",
      "Epoch 15/100\n",
      "60000/60000 [==============================] - 2s 32us/step - loss: 0.6104 - accuracy: 0.9094 - val_loss: 0.4819 - val_accuracy: 0.9484\n",
      "Epoch 16/100\n",
      "60000/60000 [==============================] - 2s 32us/step - loss: 0.6045 - accuracy: 0.9116 - val_loss: 0.4837 - val_accuracy: 0.9533\n",
      "Epoch 17/100\n",
      "60000/60000 [==============================] - 2s 32us/step - loss: 0.6055 - accuracy: 0.9096 - val_loss: 0.4614 - val_accuracy: 0.9561\n",
      "Epoch 18/100\n",
      "60000/60000 [==============================] - 2s 32us/step - loss: 0.5993 - accuracy: 0.9115 - val_loss: 0.4778 - val_accuracy: 0.9501\n",
      "Epoch 19/100\n",
      "60000/60000 [==============================] - 2s 32us/step - loss: 0.5898 - accuracy: 0.9117 - val_loss: 0.4744 - val_accuracy: 0.9518\n",
      "Epoch 20/100\n",
      "60000/60000 [==============================] - 2s 32us/step - loss: 0.6040 - accuracy: 0.9099 - val_loss: 0.4577 - val_accuracy: 0.9564\n",
      "Epoch 21/100\n",
      "60000/60000 [==============================] - 2s 32us/step - loss: 0.5919 - accuracy: 0.9109 - val_loss: 0.4585 - val_accuracy: 0.9526\n",
      "Epoch 22/100\n",
      "60000/60000 [==============================] - 2s 33us/step - loss: 0.5884 - accuracy: 0.9118 - val_loss: 0.4605 - val_accuracy: 0.9513\n",
      "Epoch 23/100\n",
      "60000/60000 [==============================] - 2s 33us/step - loss: 0.5869 - accuracy: 0.9135 - val_loss: 0.4616 - val_accuracy: 0.9512\n",
      "Epoch 24/100\n",
      "60000/60000 [==============================] - 2s 32us/step - loss: 0.5785 - accuracy: 0.9132 - val_loss: 0.4635 - val_accuracy: 0.9514\n",
      "Epoch 25/100\n",
      "60000/60000 [==============================] - 2s 33us/step - loss: 0.5920 - accuracy: 0.9103 - val_loss: 0.4489 - val_accuracy: 0.9547\n",
      "Epoch 26/100\n",
      "60000/60000 [==============================] - 2s 32us/step - loss: 0.5810 - accuracy: 0.9123 - val_loss: 0.4524 - val_accuracy: 0.9494\n",
      "Epoch 27/100\n",
      "60000/60000 [==============================] - 2s 32us/step - loss: 0.5793 - accuracy: 0.9126 - val_loss: 0.4506 - val_accuracy: 0.9554\n",
      "Epoch 28/100\n",
      "60000/60000 [==============================] - 2s 32us/step - loss: 0.5801 - accuracy: 0.9127 - val_loss: 0.4291 - val_accuracy: 0.9543\n",
      "Epoch 29/100\n",
      "60000/60000 [==============================] - 2s 32us/step - loss: 0.5772 - accuracy: 0.9122 - val_loss: 0.4548 - val_accuracy: 0.9514\n",
      "Epoch 30/100\n",
      "60000/60000 [==============================] - 2s 32us/step - loss: 0.5741 - accuracy: 0.9119 - val_loss: 0.4555 - val_accuracy: 0.9504\n",
      "Epoch 31/100\n",
      "60000/60000 [==============================] - 2s 32us/step - loss: 0.5802 - accuracy: 0.9103 - val_loss: 0.4352 - val_accuracy: 0.9545\n",
      "Epoch 32/100\n",
      "60000/60000 [==============================] - 2s 32us/step - loss: 0.5764 - accuracy: 0.9123 - val_loss: 0.4409 - val_accuracy: 0.9517\n",
      "Epoch 33/100\n",
      "60000/60000 [==============================] - 2s 33us/step - loss: 0.5732 - accuracy: 0.9115 - val_loss: 0.4535 - val_accuracy: 0.9501\n",
      "Epoch 34/100\n",
      "60000/60000 [==============================] - 2s 33us/step - loss: 0.5743 - accuracy: 0.9118 - val_loss: 0.4355 - val_accuracy: 0.9502\n",
      "Epoch 35/100\n",
      "60000/60000 [==============================] - 2s 33us/step - loss: 0.5745 - accuracy: 0.9097 - val_loss: 0.4277 - val_accuracy: 0.9563\n",
      "Epoch 36/100\n",
      "60000/60000 [==============================] - 2s 33us/step - loss: 0.5717 - accuracy: 0.9107 - val_loss: 0.4326 - val_accuracy: 0.9561\n",
      "Epoch 37/100\n",
      "60000/60000 [==============================] - 2s 33us/step - loss: 0.5745 - accuracy: 0.9102 - val_loss: 0.4233 - val_accuracy: 0.9576\n",
      "Epoch 38/100\n",
      "60000/60000 [==============================] - 2s 33us/step - loss: 0.5580 - accuracy: 0.9138 - val_loss: 0.4316 - val_accuracy: 0.9537\n",
      "Epoch 39/100\n",
      "60000/60000 [==============================] - 2s 32us/step - loss: 0.5710 - accuracy: 0.9098 - val_loss: 0.4483 - val_accuracy: 0.9515\n",
      "Epoch 40/100\n",
      "60000/60000 [==============================] - 2s 32us/step - loss: 0.5664 - accuracy: 0.9114 - val_loss: 0.4409 - val_accuracy: 0.9482\n",
      "Epoch 41/100\n",
      "60000/60000 [==============================] - 2s 32us/step - loss: 0.5567 - accuracy: 0.9131 - val_loss: 0.4273 - val_accuracy: 0.9540\n",
      "Epoch 42/100\n",
      "60000/60000 [==============================] - 2s 32us/step - loss: 0.5645 - accuracy: 0.9118 - val_loss: 0.4355 - val_accuracy: 0.9559\n",
      "Epoch 43/100\n",
      "60000/60000 [==============================] - 2s 32us/step - loss: 0.5640 - accuracy: 0.9110 - val_loss: 0.4242 - val_accuracy: 0.9564\n",
      "Epoch 44/100\n",
      "60000/60000 [==============================] - 2s 32us/step - loss: 0.5636 - accuracy: 0.9101 - val_loss: 0.4329 - val_accuracy: 0.9536\n",
      "Epoch 45/100\n",
      "60000/60000 [==============================] - 2s 32us/step - loss: 0.5581 - accuracy: 0.9128 - val_loss: 0.4253 - val_accuracy: 0.9531\n",
      "Epoch 46/100\n",
      "60000/60000 [==============================] - 2s 32us/step - loss: 0.5536 - accuracy: 0.9129 - val_loss: 0.4140 - val_accuracy: 0.9535\n",
      "Epoch 47/100\n",
      "60000/60000 [==============================] - 2s 32us/step - loss: 0.5618 - accuracy: 0.9112 - val_loss: 0.4305 - val_accuracy: 0.9524\n",
      "Epoch 48/100\n",
      "60000/60000 [==============================] - 2s 32us/step - loss: 0.5619 - accuracy: 0.9095 - val_loss: 0.4153 - val_accuracy: 0.9552\n",
      "Epoch 49/100\n",
      "60000/60000 [==============================] - 2s 32us/step - loss: 0.5603 - accuracy: 0.9111 - val_loss: 0.4127 - val_accuracy: 0.9546\n",
      "Epoch 50/100\n",
      "60000/60000 [==============================] - 2s 32us/step - loss: 0.5610 - accuracy: 0.9102 - val_loss: 0.4228 - val_accuracy: 0.9531\n",
      "Epoch 51/100\n",
      "60000/60000 [==============================] - 2s 32us/step - loss: 0.5542 - accuracy: 0.9123 - val_loss: 0.4352 - val_accuracy: 0.9516\n",
      "Epoch 52/100\n",
      "60000/60000 [==============================] - 2s 32us/step - loss: 0.5608 - accuracy: 0.9117 - val_loss: 0.4163 - val_accuracy: 0.9564\n",
      "Epoch 53/100\n",
      "60000/60000 [==============================] - 2s 32us/step - loss: 0.5600 - accuracy: 0.9099 - val_loss: 0.4144 - val_accuracy: 0.9527\n",
      "Epoch 54/100\n",
      "60000/60000 [==============================] - 2s 32us/step - loss: 0.5536 - accuracy: 0.9118 - val_loss: 0.4168 - val_accuracy: 0.9557\n",
      "Epoch 55/100\n",
      "60000/60000 [==============================] - 2s 32us/step - loss: 0.5544 - accuracy: 0.9118 - val_loss: 0.4240 - val_accuracy: 0.9516\n",
      "Epoch 56/100\n",
      "60000/60000 [==============================] - 2s 32us/step - loss: 0.5573 - accuracy: 0.9116 - val_loss: 0.4233 - val_accuracy: 0.9509\n",
      "Epoch 57/100\n",
      "60000/60000 [==============================] - 2s 32us/step - loss: 0.5515 - accuracy: 0.9117 - val_loss: 0.4198 - val_accuracy: 0.9538\n",
      "Epoch 58/100\n",
      "60000/60000 [==============================] - 2s 32us/step - loss: 0.5521 - accuracy: 0.9116 - val_loss: 0.4104 - val_accuracy: 0.9542\n",
      "Epoch 59/100\n",
      "60000/60000 [==============================] - 2s 33us/step - loss: 0.5588 - accuracy: 0.9096 - val_loss: 0.4111 - val_accuracy: 0.9534\n",
      "Epoch 60/100\n",
      "60000/60000 [==============================] - 2s 32us/step - loss: 0.5558 - accuracy: 0.9093 - val_loss: 0.4157 - val_accuracy: 0.9554\n",
      "Epoch 61/100\n",
      "60000/60000 [==============================] - 2s 32us/step - loss: 0.5527 - accuracy: 0.9129 - val_loss: 0.4238 - val_accuracy: 0.9477\n",
      "Epoch 62/100\n",
      "60000/60000 [==============================] - 2s 32us/step - loss: 0.5495 - accuracy: 0.9120 - val_loss: 0.4053 - val_accuracy: 0.9550\n",
      "Epoch 63/100\n",
      "60000/60000 [==============================] - 2s 32us/step - loss: 0.5505 - accuracy: 0.9117 - val_loss: 0.4270 - val_accuracy: 0.9500\n",
      "Epoch 64/100\n",
      "60000/60000 [==============================] - 2s 32us/step - loss: 0.5411 - accuracy: 0.9143 - val_loss: 0.4185 - val_accuracy: 0.9502\n",
      "Epoch 65/100\n",
      "60000/60000 [==============================] - 2s 32us/step - loss: 0.5516 - accuracy: 0.9125 - val_loss: 0.4109 - val_accuracy: 0.9524\n",
      "Epoch 66/100\n",
      "60000/60000 [==============================] - 2s 33us/step - loss: 0.5494 - accuracy: 0.9109 - val_loss: 0.4169 - val_accuracy: 0.9553\n",
      "Epoch 67/100\n",
      "60000/60000 [==============================] - 2s 33us/step - loss: 0.5482 - accuracy: 0.9126 - val_loss: 0.4170 - val_accuracy: 0.9536\n",
      "Epoch 68/100\n",
      "60000/60000 [==============================] - 2s 34us/step - loss: 0.5518 - accuracy: 0.9103 - val_loss: 0.4001 - val_accuracy: 0.9559\n",
      "Epoch 69/100\n",
      "60000/60000 [==============================] - 2s 35us/step - loss: 0.5496 - accuracy: 0.9101 - val_loss: 0.4133 - val_accuracy: 0.9535\n",
      "Epoch 70/100\n",
      "60000/60000 [==============================] - 2s 33us/step - loss: 0.5494 - accuracy: 0.9111 - val_loss: 0.4073 - val_accuracy: 0.9590\n",
      "Epoch 71/100\n",
      "60000/60000 [==============================] - 2s 32us/step - loss: 0.5523 - accuracy: 0.9116 - val_loss: 0.4118 - val_accuracy: 0.9514\n",
      "Epoch 72/100\n",
      "60000/60000 [==============================] - 2s 33us/step - loss: 0.5443 - accuracy: 0.9122 - val_loss: 0.4143 - val_accuracy: 0.9496\n",
      "Epoch 73/100\n",
      "60000/60000 [==============================] - 2s 32us/step - loss: 0.5494 - accuracy: 0.9103 - val_loss: 0.4043 - val_accuracy: 0.9558\n",
      "Epoch 74/100\n",
      "60000/60000 [==============================] - 2s 33us/step - loss: 0.5482 - accuracy: 0.9100 - val_loss: 0.4058 - val_accuracy: 0.9513\n",
      "Epoch 75/100\n",
      "60000/60000 [==============================] - 2s 33us/step - loss: 0.5457 - accuracy: 0.9111 - val_loss: 0.4067 - val_accuracy: 0.9552\n",
      "Epoch 76/100\n",
      "60000/60000 [==============================] - 2s 33us/step - loss: 0.5512 - accuracy: 0.9112 - val_loss: 0.3945 - val_accuracy: 0.9588\n",
      "Epoch 77/100\n",
      "60000/60000 [==============================] - 2s 33us/step - loss: 0.5458 - accuracy: 0.9125 - val_loss: 0.4092 - val_accuracy: 0.9527\n",
      "Epoch 78/100\n",
      "60000/60000 [==============================] - 2s 33us/step - loss: 0.5437 - accuracy: 0.9116 - val_loss: 0.4055 - val_accuracy: 0.9579\n",
      "Epoch 79/100\n",
      "60000/60000 [==============================] - 2s 33us/step - loss: 0.5519 - accuracy: 0.9101 - val_loss: 0.3955 - val_accuracy: 0.9574\n",
      "Epoch 80/100\n",
      "60000/60000 [==============================] - 2s 32us/step - loss: 0.5410 - accuracy: 0.9132 - val_loss: 0.3996 - val_accuracy: 0.9587\n",
      "Epoch 81/100\n",
      "60000/60000 [==============================] - 2s 32us/step - loss: 0.5520 - accuracy: 0.9100 - val_loss: 0.4032 - val_accuracy: 0.9533\n",
      "Epoch 82/100\n",
      "60000/60000 [==============================] - 2s 32us/step - loss: 0.5458 - accuracy: 0.9116 - val_loss: 0.3955 - val_accuracy: 0.9566\n",
      "Epoch 83/100\n",
      "60000/60000 [==============================] - 2s 33us/step - loss: 0.5557 - accuracy: 0.9091 - val_loss: 0.3992 - val_accuracy: 0.9584\n",
      "Epoch 84/100\n",
      "60000/60000 [==============================] - 2s 33us/step - loss: 0.5436 - accuracy: 0.9108 - val_loss: 0.3973 - val_accuracy: 0.9570\n",
      "Epoch 85/100\n",
      "60000/60000 [==============================] - 2s 32us/step - loss: 0.5414 - accuracy: 0.9117 - val_loss: 0.4076 - val_accuracy: 0.9534\n",
      "Epoch 86/100\n",
      "60000/60000 [==============================] - 2s 32us/step - loss: 0.5407 - accuracy: 0.9114 - val_loss: 0.4001 - val_accuracy: 0.9575\n",
      "Epoch 87/100\n",
      "60000/60000 [==============================] - 2s 32us/step - loss: 0.5464 - accuracy: 0.9099 - val_loss: 0.4157 - val_accuracy: 0.9513\n",
      "Epoch 88/100\n",
      "60000/60000 [==============================] - 2s 32us/step - loss: 0.5490 - accuracy: 0.9101 - val_loss: 0.4091 - val_accuracy: 0.9555\n",
      "Epoch 89/100\n",
      "60000/60000 [==============================] - 2s 33us/step - loss: 0.5459 - accuracy: 0.9111 - val_loss: 0.4298 - val_accuracy: 0.9487\n",
      "Epoch 90/100\n",
      "60000/60000 [==============================] - 2s 33us/step - loss: 0.5436 - accuracy: 0.9107 - val_loss: 0.3949 - val_accuracy: 0.9549\n",
      "Epoch 91/100\n",
      "60000/60000 [==============================] - 2s 32us/step - loss: 0.5402 - accuracy: 0.9118 - val_loss: 0.3912 - val_accuracy: 0.9561\n",
      "Epoch 92/100\n",
      "60000/60000 [==============================] - 2s 32us/step - loss: 0.5479 - accuracy: 0.9086 - val_loss: 0.4113 - val_accuracy: 0.9512\n",
      "Epoch 93/100\n",
      "60000/60000 [==============================] - 2s 32us/step - loss: 0.5416 - accuracy: 0.9107 - val_loss: 0.4126 - val_accuracy: 0.9529\n",
      "Epoch 94/100\n",
      "60000/60000 [==============================] - 2s 35us/step - loss: 0.5378 - accuracy: 0.9100 - val_loss: 0.4014 - val_accuracy: 0.9547\n",
      "Epoch 95/100\n",
      "60000/60000 [==============================] - 2s 35us/step - loss: 0.5452 - accuracy: 0.9095 - val_loss: 0.4095 - val_accuracy: 0.9484\n",
      "Epoch 96/100\n",
      "60000/60000 [==============================] - 2s 35us/step - loss: 0.5470 - accuracy: 0.9093 - val_loss: 0.4174 - val_accuracy: 0.9510\n",
      "Epoch 97/100\n",
      "60000/60000 [==============================] - 2s 35us/step - loss: 0.5398 - accuracy: 0.9116 - val_loss: 0.3905 - val_accuracy: 0.9567\n",
      "Epoch 98/100\n",
      "60000/60000 [==============================] - 2s 35us/step - loss: 0.5476 - accuracy: 0.9093 - val_loss: 0.4086 - val_accuracy: 0.9545\n",
      "Epoch 99/100\n",
      "60000/60000 [==============================] - 2s 32us/step - loss: 0.5421 - accuracy: 0.9104 - val_loss: 0.3958 - val_accuracy: 0.9559\n",
      "Epoch 100/100\n",
      "60000/60000 [==============================] - 2s 32us/step - loss: 0.5395 - accuracy: 0.9112 - val_loss: 0.3956 - val_accuracy: 0.9560\n"
     ]
    }
   ],
   "source": [
    "hist = model.fit(x_train, y_train,\n",
    "                        batch_size=128,\n",
    "                        epochs=100,\n",
    "                        verbose=1,\n",
    "                        validation_data=(x_test,y_test))"
   ]
  },
  {
   "cell_type": "code",
   "execution_count": 7,
   "metadata": {},
   "outputs": [
    {
     "name": "stdout",
     "output_type": "stream",
     "text": [
      "10000/10000 [==============================] - 1s 56us/step\n",
      "Test loss 0.3956, accuracy 95.60%\n"
     ]
    }
   ],
   "source": [
    "score = model.evaluate(x_test, y_test, verbose=1)\n",
    "print(\"Test loss {:.4f}, accuracy {:.2f}%\".format(score[0], score[1] * 100))"
   ]
  },
  {
   "cell_type": "code",
   "execution_count": 8,
   "metadata": {},
   "outputs": [
    {
     "name": "stdout",
     "output_type": "stream",
     "text": [
      "Saved model to disk\n"
     ]
    }
   ],
   "source": [
    "#Save the entire model in model.h5 file\n",
    "model.save(\"model.h5\")\n",
    "print(\"Saved model to disk\")"
   ]
  },
  {
   "cell_type": "code",
   "execution_count": 9,
   "metadata": {},
   "outputs": [
    {
     "data": {
      "text/plain": [
       "7185660"
      ]
     },
     "execution_count": 9,
     "metadata": {},
     "output_type": "execute_result"
    }
   ],
   "source": [
    "model = tf.keras.models.load_model('model.h5')\n",
    "converter = tf.lite.TFLiteConverter.from_keras_model(model)\n",
    "tflite_model = converter.convert()\n",
    "#saving converted model in \"converted_model.tflite\" file\n",
    "open(\"converted_model.tflite\", \"wb\").write(tflite_model)"
   ]
  },
  {
   "cell_type": "code",
   "execution_count": 10,
   "metadata": {},
   "outputs": [
    {
     "data": {
      "text/plain": [
       "1803768"
      ]
     },
     "execution_count": 10,
     "metadata": {},
     "output_type": "execute_result"
    }
   ],
   "source": [
    "model = tf.keras.models.load_model('model.h5')\n",
    "converter = tf.lite.TFLiteConverter.from_keras_model(model)\n",
    "converter.optimizations = [tf.lite.Optimize.DEFAULT]\n",
    "tflite_quant_model = converter.convert()\n",
    "#saving converted model in \"converted_quant_model.tflite\" file\n",
    "open(\"converted_quant_model.tflite\", \"wb\").write(tflite_quant_model)"
   ]
  },
  {
   "cell_type": "code",
   "execution_count": 17,
   "metadata": {},
   "outputs": [
    {
     "name": "stdout",
     "output_type": "stream",
     "text": [
      "95.6\n"
     ]
    }
   ],
   "source": [
    "# Load TFLite model and allocate tensors.\n",
    "interpreter = \\\n",
    "tf.lite.Interpreter(model_path=\"converted_quant_model.tflite\")\n",
    "interpreter.allocate_tensors()\n",
    "# Get input and output tensors.\n",
    "input_details = interpreter.get_input_details()\n",
    "output_details = interpreter.get_output_details()\n",
    "# Test model on some input data.\n",
    "input_shape = input_details[0]['shape']\n",
    "acc=0\n",
    "for i in range(len(x_test)):\n",
    "    input_data = x_test[i].reshape(input_shape)\n",
    "    interpreter.set_tensor(input_details[0]['index'], input_data)\n",
    "    interpreter.invoke()\n",
    "    output_data = interpreter.get_tensor(output_details[0]['index'])\n",
    "    if(np.argmax(output_data) == np.argmax(y_test[i])):\n",
    "        acc+=1\n",
    "acc = acc/len(x_test)\n",
    "print(acc*100)"
   ]
  },
  {
   "cell_type": "markdown",
   "metadata": {},
   "source": [
    "# VGG on CIFAR10"
   ]
  },
  {
   "cell_type": "code",
   "execution_count": 18,
   "metadata": {},
   "outputs": [
    {
     "name": "stdout",
     "output_type": "stream",
     "text": [
      "Downloading data from https://www.cs.toronto.edu/~kriz/cifar-10-python.tar.gz\n",
      "170500096/170498071 [==============================] - 4s 0us/step\n"
     ]
    }
   ],
   "source": [
    "from keras.datasets import cifar10\n",
    "(x_train,y_train),(x_test,y_test)=cifar10.load_data()"
   ]
  },
  {
   "cell_type": "code",
   "execution_count": 20,
   "metadata": {},
   "outputs": [
    {
     "name": "stdout",
     "output_type": "stream",
     "text": [
      "Downloading data from https://github.com/fchollet/deep-learning-models/releases/download/v0.1/vgg16_weights_tf_dim_ordering_tf_kernels_notop.h5\n",
      "58892288/58889256 [==============================] - 2s 0us/step\n"
     ]
    }
   ],
   "source": [
    "from keras.applications import vgg16\n",
    "IMG_SHAPE = x_train[0].shape\n",
    "VGG16_MODEL=tf.keras.applications.VGG16(input_shape=IMG_SHAPE,\n",
    "                                               include_top=False,\n",
    "                                               weights='imagenet')\n",
    "VGG16_MODEL.trainable=False\n",
    "global_average_layer = tf.keras.layers.GlobalAveragePooling2D()\n",
    "prediction_layer = tf.keras.layers.Dense(10,activation='softmax')"
   ]
  },
  {
   "cell_type": "code",
   "execution_count": 21,
   "metadata": {},
   "outputs": [],
   "source": [
    "model = tf.keras.Sequential([\n",
    "  VGG16_MODEL,\n",
    "  global_average_layer,\n",
    "  prediction_layer\n",
    "])"
   ]
  },
  {
   "cell_type": "code",
   "execution_count": 22,
   "metadata": {},
   "outputs": [],
   "source": [
    "model.compile(optimizer='adam', \n",
    "              loss=keras.losses.sparse_categorical_crossentropy,\n",
    "              metrics=[\"accuracy\"])"
   ]
  },
  {
   "cell_type": "code",
   "execution_count": 23,
   "metadata": {},
   "outputs": [],
   "source": [
    "hist = model.fit(x_train, y_train,\n",
    "                        batch_size=128,\n",
    "                        epochs=100,\n",
    "                        verbose=0,\n",
    "                        validation_data=(x_test,y_test))"
   ]
  },
  {
   "cell_type": "code",
   "execution_count": 24,
   "metadata": {},
   "outputs": [
    {
     "name": "stdout",
     "output_type": "stream",
     "text": [
      "Test loss 1.4478, accuracy 56.47%\n"
     ]
    }
   ],
   "source": [
    "score = model.evaluate(x_test, y_test, verbose=0)\n",
    "print(\"Test loss {:.4f}, accuracy {:.2f}%\".format(score[0], score[1] * 100))"
   ]
  },
  {
   "cell_type": "code",
   "execution_count": 25,
   "metadata": {},
   "outputs": [
    {
     "name": "stdout",
     "output_type": "stream",
     "text": [
      "Saved model to disk\n"
     ]
    }
   ],
   "source": [
    "model.save(\"vgg_model.h5\")\n",
    "print(\"Saved model to disk\")"
   ]
  },
  {
   "cell_type": "code",
   "execution_count": 26,
   "metadata": {},
   "outputs": [
    {
     "data": {
      "text/plain": [
       "14740040"
      ]
     },
     "execution_count": 26,
     "metadata": {},
     "output_type": "execute_result"
    }
   ],
   "source": [
    "model = tf.keras.models.load_model('vgg_model.h5')\n",
    "converter = tf.lite.TFLiteConverter.from_keras_model(model)\n",
    "converter.optimizations = [tf.lite.Optimize.DEFAULT]\n",
    "tflite_quant_model = converter.convert()\n",
    "open(\"vgg_quant_model.tflite\", \"wb\").write(tflite_quant_model)"
   ]
  },
  {
   "cell_type": "code",
   "execution_count": 29,
   "metadata": {},
   "outputs": [
    {
     "name": "stdout",
     "output_type": "stream",
     "text": [
      "41.75\n"
     ]
    }
   ],
   "source": [
    "x_test = x_test.astype('float32')\n",
    "\n",
    "# Load TFLite model and allocate tensors.\n",
    "interpreter = tf.lite.Interpreter(model_path=\"vgg_quant_model.tflite\")\n",
    "interpreter.allocate_tensors()\n",
    "\n",
    "# Get input and output tensors.\n",
    "input_details = interpreter.get_input_details()\n",
    "output_details = interpreter.get_output_details()\n",
    "\n",
    "# Test model on some input data.\n",
    "input_shape = input_details[0]['shape']\n",
    "acc=0\n",
    "for i in range(len(x_test)):\n",
    "    input_data = x_test[i].reshape(input_shape)\n",
    "    interpreter.set_tensor(input_details[0]['index'], input_data)\n",
    "    interpreter.invoke()\n",
    "    output_data = interpreter.get_tensor(output_details[0]['index'])\n",
    "    if(np.argmax(output_data) == y_test[i]):\n",
    "        acc+=1\n",
    "acc = acc/len(x_test)\n",
    "print(acc*100)"
   ]
  },
  {
   "cell_type": "code",
   "execution_count": null,
   "metadata": {},
   "outputs": [],
   "source": []
  }
 ],
 "metadata": {
  "kernelspec": {
   "display_name": "Python 3",
   "language": "python",
   "name": "python3"
  },
  "language_info": {
   "codemirror_mode": {
    "name": "ipython",
    "version": 3
   },
   "file_extension": ".py",
   "mimetype": "text/x-python",
   "name": "python",
   "nbconvert_exporter": "python",
   "pygments_lexer": "ipython3",
   "version": "3.7.6"
  }
 },
 "nbformat": 4,
 "nbformat_minor": 4
}
